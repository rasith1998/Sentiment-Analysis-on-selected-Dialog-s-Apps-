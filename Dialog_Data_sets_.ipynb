{
  "nbformat": 4,
  "nbformat_minor": 0,
  "metadata": {
    "colab": {
      "name": "Dialog Data sets .ipynb",
      "provenance": [],
      "authorship_tag": "ABX9TyMeYnZeE3zJdphW+5LGND4a",
      "include_colab_link": true
    },
    "kernelspec": {
      "name": "python3",
      "display_name": "Python 3"
    },
    "language_info": {
      "name": "python"
    }
  },
  "cells": [
    {
      "cell_type": "markdown",
      "metadata": {
        "id": "view-in-github",
        "colab_type": "text"
      },
      "source": [
        "<a href=\"https://colab.research.google.com/github/rasith1998/Sentiment-Analysis-on-selected-Dialog-s-Apps-/blob/main/Dialog_Data_sets_.ipynb\" target=\"_parent\"><img src=\"https://colab.research.google.com/assets/colab-badge.svg\" alt=\"Open In Colab\"/></a>"
      ]
    },
    {
      "cell_type": "code",
      "execution_count": 1,
      "metadata": {
        "id": "r2YOWxW60NCF",
        "colab": {
          "base_uri": "https://localhost:8080/"
        },
        "outputId": "f265e368-5801-4a57-e9eb-a421c7cda0a7"
      },
      "outputs": [
        {
          "output_type": "stream",
          "name": "stdout",
          "text": [
            "\u001b[?25l\r\u001b[K     |██████▏                         | 10 kB 16.5 MB/s eta 0:00:01\r\u001b[K     |████████████▍                   | 20 kB 9.2 MB/s eta 0:00:01\r\u001b[K     |██████████████████▋             | 30 kB 7.7 MB/s eta 0:00:01\r\u001b[K     |████████████████████████▉       | 40 kB 3.5 MB/s eta 0:00:01\r\u001b[K     |███████████████████████████████ | 51 kB 4.0 MB/s eta 0:00:01\r\u001b[K     |████████████████████████████████| 52 kB 1.1 MB/s \n",
            "\u001b[?25h  Building wheel for google-play-scraper (setup.py) ... \u001b[?25l\u001b[?25hdone\n"
          ]
        }
      ],
      "source": [
        "!pip install -qq google-play-scraper"
      ]
    },
    {
      "cell_type": "code",
      "source": [
        "!pip install watermark"
      ],
      "metadata": {
        "id": "cGqxWg-39-Vl",
        "colab": {
          "base_uri": "https://localhost:8080/"
        },
        "outputId": "140ca19b-ab6f-402e-ca93-2c4f6288d5f8"
      },
      "execution_count": 10,
      "outputs": [
        {
          "output_type": "stream",
          "name": "stdout",
          "text": [
            "Requirement already satisfied: watermark in /usr/local/lib/python3.7/dist-packages (2.3.0)\n",
            "Requirement already satisfied: ipython in /usr/local/lib/python3.7/dist-packages (from watermark) (5.5.0)\n",
            "Requirement already satisfied: importlib-metadata<3.0 in /usr/local/lib/python3.7/dist-packages (from watermark) (2.1.3)\n",
            "Requirement already satisfied: zipp>=0.5 in /usr/local/lib/python3.7/dist-packages (from importlib-metadata<3.0->watermark) (3.7.0)\n",
            "Requirement already satisfied: traitlets>=4.2 in /usr/local/lib/python3.7/dist-packages (from ipython->watermark) (5.1.1)\n",
            "Requirement already satisfied: pygments in /usr/local/lib/python3.7/dist-packages (from ipython->watermark) (2.6.1)\n",
            "Requirement already satisfied: decorator in /usr/local/lib/python3.7/dist-packages (from ipython->watermark) (4.4.2)\n",
            "Requirement already satisfied: simplegeneric>0.8 in /usr/local/lib/python3.7/dist-packages (from ipython->watermark) (0.8.1)\n",
            "Requirement already satisfied: pexpect in /usr/local/lib/python3.7/dist-packages (from ipython->watermark) (4.8.0)\n",
            "Requirement already satisfied: prompt-toolkit<2.0.0,>=1.0.4 in /usr/local/lib/python3.7/dist-packages (from ipython->watermark) (1.0.18)\n",
            "Requirement already satisfied: pickleshare in /usr/local/lib/python3.7/dist-packages (from ipython->watermark) (0.7.5)\n",
            "Requirement already satisfied: setuptools>=18.5 in /usr/local/lib/python3.7/dist-packages (from ipython->watermark) (57.4.0)\n",
            "Requirement already satisfied: wcwidth in /usr/local/lib/python3.7/dist-packages (from prompt-toolkit<2.0.0,>=1.0.4->ipython->watermark) (0.2.5)\n",
            "Requirement already satisfied: six>=1.9.0 in /usr/local/lib/python3.7/dist-packages (from prompt-toolkit<2.0.0,>=1.0.4->ipython->watermark) (1.15.0)\n",
            "Requirement already satisfied: ptyprocess>=0.5 in /usr/local/lib/python3.7/dist-packages (from pexpect->ipython->watermark) (0.7.0)\n"
          ]
        }
      ]
    },
    {
      "cell_type": "code",
      "source": [
        "%matplotlib inline\n",
        "%load_ext watermark\n",
        "%watermark -v -p pandas,matplotlib,seaborn,google_play_scraper\n",
        "#%watermark --machine --python --packages numpy,pandas,scikit-learn"
      ],
      "metadata": {
        "colab": {
          "base_uri": "https://localhost:8080/"
        },
        "id": "kLm8XE4E-AWA",
        "outputId": "2d7d6bdc-33f0-4967-bd29-bbc76da31daa"
      },
      "execution_count": 13,
      "outputs": [
        {
          "output_type": "stream",
          "name": "stdout",
          "text": [
            "Python implementation: CPython\n",
            "Python version       : 3.7.13\n",
            "IPython version      : 5.5.0\n",
            "\n",
            "pandas             : 1.3.5\n",
            "matplotlib         : 3.2.2\n",
            "seaborn            : 0.11.2\n",
            "google_play_scraper: 1.0.3\n",
            "\n"
          ]
        }
      ]
    },
    {
      "cell_type": "code",
      "source": [
        "import json\n",
        "import pandas as pd\n",
        "from tqdm import tqdm\n",
        "\n",
        "import seaborn as sns\n",
        "import matplotlib.pyplot as plt\n",
        "\n",
        "from pygments import highlight\n",
        "from pygments.lexers import JsonLexer\n",
        "from pygments.formatters import TerminalFormatter\n",
        "\n",
        "from google_play_scraper import Sort, reviews, app\n",
        "\n",
        "%matplotlib inline\n",
        "%config InlineBackend.figure_format='retina'\n",
        "\n",
        "sns.set(style='whitegrid', palette='muted', font_scale=1.2)"
      ],
      "metadata": {
        "id": "ARdF2TsMBn32"
      },
      "execution_count": 14,
      "outputs": []
    },
    {
      "cell_type": "markdown",
      "source": [
        "### Scraping App Information\n",
        "Let's scrape the info for each app:"
      ],
      "metadata": {
        "id": "gdv1rlm0E81A"
      }
    },
    {
      "cell_type": "code",
      "source": [
        "app_packages = [\n",
        "  'net.omobio.dialogsc',#MyDialog\n",
        "  'net.omobio.dialog.dialogra',#Dialog Retail Hub\n",
        "  'lk.dialog.hometalk' #Dialog HomeTalk\n",
        "]"
      ],
      "metadata": {
        "id": "xCVAI4icBu6u"
      },
      "execution_count": 15,
      "outputs": []
    },
    {
      "cell_type": "code",
      "source": [
        "app_infos = []\n",
        "\n",
        "for ap in tqdm(app_packages):\n",
        "  info = app(ap, lang='en', country='lk')\n",
        "  del info['comments']\n",
        "  app_infos.append(info)"
      ],
      "metadata": {
        "colab": {
          "base_uri": "https://localhost:8080/"
        },
        "id": "tFDEMJw7E5AJ",
        "outputId": "af8b6324-ede5-445d-b833-1d18284a4e1b"
      },
      "execution_count": 16,
      "outputs": [
        {
          "output_type": "stream",
          "name": "stderr",
          "text": [
            "100%|██████████| 3/3 [00:00<00:00,  3.74it/s]\n"
          ]
        }
      ]
    },
    {
      "cell_type": "code",
      "source": [
        "def print_json(json_object):\n",
        "  json_str = json.dumps(\n",
        "    json_object, \n",
        "    indent=2, \n",
        "    sort_keys=True, \n",
        "    default=str\n",
        "  )\n",
        "  print(highlight(json_str, JsonLexer(), TerminalFormatter()))"
      ],
      "metadata": {
        "id": "rXS002oPFWmU"
      },
      "execution_count": 17,
      "outputs": []
    },
    {
      "cell_type": "code",
      "source": [
        "print_json(app_infos)"
      ],
      "metadata": {
        "colab": {
          "base_uri": "https://localhost:8080/"
        },
        "id": "uTjDdJ2lFdvS",
        "outputId": "50a05fa2-1f51-4748-d3bb-de82eecdda16"
      },
      "execution_count": 27,
      "outputs": [
        {
          "output_type": "stream",
          "name": "stdout",
          "text": [
            "[\n",
            "  {\n",
            "    \u001b[94m\"adSupported\"\u001b[39;49;00m: \u001b[34mtrue\u001b[39;49;00m,\n",
            "    \u001b[94m\"androidVersion\"\u001b[39;49;00m: \u001b[33m\"5.0\"\u001b[39;49;00m,\n",
            "    \u001b[94m\"androidVersionText\"\u001b[39;49;00m: \u001b[33m\"5.0 and up\"\u001b[39;49;00m,\n",
            "    \u001b[94m\"appId\"\u001b[39;49;00m: \u001b[33m\"net.omobio.dialogsc\"\u001b[39;49;00m,\n",
            "    \u001b[94m\"containsAds\"\u001b[39;49;00m: \u001b[34mtrue\u001b[39;49;00m,\n",
            "    \u001b[94m\"contentRating\"\u001b[39;49;00m: \u001b[33m\"Rated for 3+\"\u001b[39;49;00m,\n",
            "    \u001b[94m\"contentRatingDescription\"\u001b[39;49;00m: \u001b[34mnull\u001b[39;49;00m,\n",
            "    \u001b[94m\"currency\"\u001b[39;49;00m: \u001b[33m\"LKR\"\u001b[39;49;00m,\n",
            "    \u001b[94m\"description\"\u001b[39;49;00m: \u001b[33m\"The MyDialog App is a new and revolutionary way for you to manage all your Dialog connections instantly from anywhere, anytime at your fingertips.\\r\\n \\r\\n\\u2219 Secure all your Dialog connections\\r\\nThe My Dialog App takes your online security to the next level by placing all your Dialog connections under your NIC.\\r\\n \\r\\n\\u2219 Keep an eye on your usage\\r\\nMy Dialog lets you know your usage exactly, whether it be your calls, SMS, or data.\\r\\n \\r\\n\\u2219 Pay your bills with ease\\r\\nWhy waste time heading to a payment center? My Dialog lets you reload and make bill payments in just a few simple clicks!\\r\\n \\r\\n\\u2219 Make faster payments\\r\\nSave your petty cash. Enter your Visa/Master card into the My Dialog app to make convenient payments anywhere, anytime.\\r\\n \\r\\n\\u2219 Manage your data packages\\r\\nTake control of your online connectivity. Use the My Dialog app to activate and manage your internet data packages anywhere, anytime.\\r\\n \\r\\n\\u2219 Manage all your Dialog Television channels\\r\\nCalling customer support is no longer the fastest way! My Dialog lets you make payments, and activate TV channels, packages and rescans, conveniently from your own home.\\r\\n \\r\\n\\u2219 Enjoy exclusive Club Vision offers\\r\\nDownload the My Dialog app to benefit even more from the most premier loyalty programme in the country.\\r\\n \\r\\n\\u2219 Manage your eZ Cash wallet\\r\\nUse My Dialog to stay updated and make transactions from your eZ Cash wallet.\\r\\n \\r\\n\\u2219 Enjoy 24/7 assistance and support\\r\\nMy Dialog is available all day everyday as a portal to all your Dialog plans and subscriptions.\\r\\n \\r\\n\\u2219 Explore Dialog products and services with ease\\r\\nAre you a new subscriber or just plain curious about what we\\u2019ve been offering lately? The My Dialog app gives you the rundown on over 450 Dialog products and services conveniently and instantly.\\r\\n \\r\\n\\u2219 Help a friend\\r\\nHelp your friends with the \\u2018Help a Friend\\u2019 feature for Mobile postpaid data add-ons, RingIN Tones and Dialog Television channel activations & rescans.\\r\\n \\r\\n\\u2219 Tri-lingual language support\\r\\nWhether your preferred language is English, Sinhalese, or Tamil, the My Dialog app is still super friendly to use.\\r\\n \\r\\n\\u2219 Manage Value Added Services\\r\\nMy Dialog is your one-stop app for personalizing your Dialog value added services conveniently and instantly.\\r\\n \\r\\n\\u2219 Manage IDD and roaming services\\r\\nStay connected with the ones you care about back home. Log into the My Dialog app to instantly manage your Dialog IDD and roaming services!\"\u001b[39;49;00m,\n",
            "    \u001b[94m\"descriptionHTML\"\u001b[39;49;00m: \u001b[33m\"The MyDialog App is a new and revolutionary way for you to manage all your Dialog connections instantly from anywhere, anytime at your fingertips.<br> <br>\\u2219 Secure all your Dialog connections<br>The My Dialog App takes your online security to the next level by placing all your Dialog connections under your NIC.<br> <br>\\u2219 Keep an eye on your usage<br>My Dialog lets you know your usage exactly, whether it be your calls, SMS, or data.<br> <br>\\u2219 Pay your bills with ease<br>Why waste time heading to a payment center? My Dialog lets you reload and make bill payments in just a few simple clicks!<br> <br>\\u2219 Make faster payments<br>Save your petty cash. Enter your Visa/Master card into the My Dialog app to make convenient payments anywhere, anytime.<br> <br>\\u2219 Manage your data packages<br>Take control of your online connectivity. Use the My Dialog app to activate and manage your internet data packages anywhere, anytime.<br> <br>\\u2219 Manage all your Dialog Television channels<br>Calling customer support is no longer the fastest way! My Dialog lets you make payments, and activate TV channels, packages and rescans, conveniently from your own home.<br> <br>\\u2219 Enjoy exclusive Club Vision offers<br>Download the My Dialog app to benefit even more from the most premier loyalty programme in the country.<br> <br>\\u2219 Manage your eZ Cash wallet<br>Use My Dialog to stay updated and make transactions from your eZ Cash wallet.<br> <br>\\u2219 Enjoy 24/7 assistance and support<br>My Dialog is available all day everyday as a portal to all your Dialog plans and subscriptions.<br> <br>\\u2219 Explore Dialog products and services with ease<br>Are you a new subscriber or just plain curious about what we\\u2019ve been offering lately? The My Dialog app gives you the rundown on over 450 Dialog products and services conveniently and instantly.<br> <br>\\u2219 Help a friend<br>Help your friends with the \\u2018Help a Friend\\u2019 feature for Mobile postpaid data add-ons, RingIN Tones and Dialog Television channel activations &amp; rescans.<br> <br>\\u2219 Tri-lingual language support<br>Whether your preferred language is English, Sinhalese, or Tamil, the My Dialog app is still super friendly to use.<br> <br>\\u2219 Manage Value Added Services<br>My Dialog is your one-stop app for personalizing your Dialog value added services conveniently and instantly.<br> <br>\\u2219 Manage IDD and roaming services<br>Stay connected with the ones you care about back home. Log into the My Dialog app to instantly manage your Dialog IDD and roaming services!\"\u001b[39;49;00m,\n",
            "    \u001b[94m\"developer\"\u001b[39;49;00m: \u001b[33m\"Dialog Axiata PLC.\"\u001b[39;49;00m,\n",
            "    \u001b[94m\"developerAddress\"\u001b[39;49;00m: \u001b[34mnull\u001b[39;49;00m,\n",
            "    \u001b[94m\"developerEmail\"\u001b[39;49;00m: \u001b[33m\"service@dialog.lk\"\u001b[39;49;00m,\n",
            "    \u001b[94m\"developerId\"\u001b[39;49;00m: \u001b[33m\"Dialog+Axiata+PLC.\"\u001b[39;49;00m,\n",
            "    \u001b[94m\"developerInternalID\"\u001b[39;49;00m: \u001b[33m\"8980960940567804756\"\u001b[39;49;00m,\n",
            "    \u001b[94m\"developerWebsite\"\u001b[39;49;00m: \u001b[33m\"http://www.dialog.lk\"\u001b[39;49;00m,\n",
            "    \u001b[94m\"editorsChoice\"\u001b[39;49;00m: \u001b[34mfalse\u001b[39;49;00m,\n",
            "    \u001b[94m\"free\"\u001b[39;49;00m: \u001b[34mtrue\u001b[39;49;00m,\n",
            "    \u001b[94m\"genre\"\u001b[39;49;00m: \u001b[33m\"Communication\"\u001b[39;49;00m,\n",
            "    \u001b[94m\"genreId\"\u001b[39;49;00m: \u001b[33m\"COMMUNICATION\"\u001b[39;49;00m,\n",
            "    \u001b[94m\"headerImage\"\u001b[39;49;00m: \u001b[33m\"https://play-lh.googleusercontent.com/A0CU27vW7A72ikZhQF3lrchrn4VqkiE3bvszQQv3vECHuqjl-HONAGw3cceDpSoF0G0\"\u001b[39;49;00m,\n",
            "    \u001b[94m\"histogram\"\u001b[39;49;00m: [\n",
            "      \u001b[34m31893\u001b[39;49;00m,\n",
            "      \u001b[34m8757\u001b[39;49;00m,\n",
            "      \u001b[34m17390\u001b[39;49;00m,\n",
            "      \u001b[34m25384\u001b[39;49;00m,\n",
            "      \u001b[34m132982\u001b[39;49;00m\n",
            "    ],\n",
            "    \u001b[94m\"icon\"\u001b[39;49;00m: \u001b[33m\"https://play-lh.googleusercontent.com/9uy9IoCetw4PQMpY5bBOdnFjK2pBNFH-cEUNGBJSVElqAQh6_gscat25hRw20A_5jnc\"\u001b[39;49;00m,\n",
            "    \u001b[94m\"inAppProductPrice\"\u001b[39;49;00m: \u001b[34mnull\u001b[39;49;00m,\n",
            "    \u001b[94m\"installs\"\u001b[39;49;00m: \u001b[33m\"5,000,000+\"\u001b[39;49;00m,\n",
            "    \u001b[94m\"minInstalls\"\u001b[39;49;00m: \u001b[34m5000000\u001b[39;49;00m,\n",
            "    \u001b[94m\"moreByDeveloper\"\u001b[39;49;00m: \u001b[34mnull\u001b[39;49;00m,\n",
            "    \u001b[94m\"offersIAP\"\u001b[39;49;00m: \u001b[34mfalse\u001b[39;49;00m,\n",
            "    \u001b[94m\"originalPrice\"\u001b[39;49;00m: \u001b[34mnull\u001b[39;49;00m,\n",
            "    \u001b[94m\"price\"\u001b[39;49;00m: \u001b[34m0\u001b[39;49;00m,\n",
            "    \u001b[94m\"privacyPolicy\"\u001b[39;49;00m: \u001b[33m\"http://www.dialog.lk/privacy-policy\"\u001b[39;49;00m,\n",
            "    \u001b[94m\"ratings\"\u001b[39;49;00m: \u001b[34m216406\u001b[39;49;00m,\n",
            "    \u001b[94m\"recentChanges\"\u001b[39;49;00m: \u001b[33m\"\\u2022 Enhanced visibility of your service request \\r\\n\\u2022 Improved account status visibility\\r\\n\\u2022 Recommended data packages for mobile prepaid\\r\\n\\u2022 Fun blaster plan for mobile postpaid \\r\\n\\u2022 Improved roaming rates view\\r\\n\\u2022 Introducing Power plan sharing \\r\\n\\u2022 Performance improvements and bug fixes\"\u001b[39;49;00m,\n",
            "    \u001b[94m\"recentChangesHTML\"\u001b[39;49;00m: \u001b[33m\"\\u2022 Enhanced visibility of your service request <br>\\u2022 Improved account status visibility<br>\\u2022 Recommended data packages for mobile prepaid<br>\\u2022 Fun blaster plan for mobile postpaid <br>\\u2022 Improved roaming rates view<br>\\u2022 Introducing Power plan sharing <br>\\u2022 Performance improvements and bug fixes\"\u001b[39;49;00m,\n",
            "    \u001b[94m\"released\"\u001b[39;49;00m: \u001b[33m\"Nov 5, 2013\"\u001b[39;49;00m,\n",
            "    \u001b[94m\"reviews\"\u001b[39;49;00m: \u001b[34m40197\u001b[39;49;00m,\n",
            "    \u001b[94m\"sale\"\u001b[39;49;00m: \u001b[34mfalse\u001b[39;49;00m,\n",
            "    \u001b[94m\"saleText\"\u001b[39;49;00m: \u001b[34mnull\u001b[39;49;00m,\n",
            "    \u001b[94m\"saleTime\"\u001b[39;49;00m: \u001b[34mnull\u001b[39;49;00m,\n",
            "    \u001b[94m\"score\"\u001b[39;49;00m: \u001b[34m4.0110726\u001b[39;49;00m,\n",
            "    \u001b[94m\"screenshots\"\u001b[39;49;00m: [\n",
            "      \u001b[33m\"https://play-lh.googleusercontent.com/2E82jBIa38xipdwCZpHos1spqF2ZOMleVwmBGTJjogYg858y1rA0UgezSZ4dd5-1ysU\"\u001b[39;49;00m,\n",
            "      \u001b[33m\"https://play-lh.googleusercontent.com/DlLi8J3tuhzn0zFmxjrMsFfu0sfQ_s-XtUpVUp9lFNaj8XE2I1hbf9fNJnWY1lN9rg\"\u001b[39;49;00m,\n",
            "      \u001b[33m\"https://play-lh.googleusercontent.com/2UdfxNLfm4F7sOlON94FwZ29iFqiJP7BiiILJ_edpqzaRK7-VnDbTPQdm5n8toORngov\"\u001b[39;49;00m,\n",
            "      \u001b[33m\"https://play-lh.googleusercontent.com/JMtPMNip_a2HZ_3Jm55Kh8DFyeCBrs8Z1rUJ12JMs5LWKaMoRAQmbvS0AB71tRwLKw\"\u001b[39;49;00m,\n",
            "      \u001b[33m\"https://play-lh.googleusercontent.com/avCadxbN_eLG-hglmQX1ddaOszV759_oveTPL4Erc3aXXFCCOoeC30PScm_iRMIjylxc\"\u001b[39;49;00m\n",
            "    ],\n",
            "    \u001b[94m\"similarApps\"\u001b[39;49;00m: [\n",
            "      \u001b[33m\"com.omobio.etisalatone\"\u001b[39;49;00m,\n",
            "      \u001b[33m\"lk.bhasha.helakuru\"\u001b[39;49;00m,\n",
            "      \u001b[33m\"com.tsdc.selfcare\"\u001b[39;49;00m,\n",
            "      \u001b[33m\"com.slt.selfcare\"\u001b[39;49;00m,\n",
            "      \u001b[33m\"lk.ikman\"\u001b[39;49;00m\n",
            "    ],\n",
            "    \u001b[94m\"size\"\u001b[39;49;00m: \u001b[33m\"Varies with device\"\u001b[39;49;00m,\n",
            "    \u001b[94m\"summary\"\u001b[39;49;00m: \u001b[33m\"Enhance your existing Dialog Self Care App experience to the new MyDialog App!\"\u001b[39;49;00m,\n",
            "    \u001b[94m\"summaryHTML\"\u001b[39;49;00m: \u001b[33m\"Enhance your existing Dialog Self Care App experience to the new MyDialog App!\"\u001b[39;49;00m,\n",
            "    \u001b[94m\"title\"\u001b[39;49;00m: \u001b[33m\"MyDialog\"\u001b[39;49;00m,\n",
            "    \u001b[94m\"updated\"\u001b[39;49;00m: \u001b[34m1644460935\u001b[39;49;00m,\n",
            "    \u001b[94m\"url\"\u001b[39;49;00m: \u001b[33m\"https://play.google.com/store/apps/details?id=net.omobio.dialogsc&hl=en&gl=lk\"\u001b[39;49;00m,\n",
            "    \u001b[94m\"version\"\u001b[39;49;00m: \u001b[33m\"15.0.0\"\u001b[39;49;00m,\n",
            "    \u001b[94m\"video\"\u001b[39;49;00m: \u001b[33m\"https://www.youtube.com/embed/hRouRa_oMy0?ps=play&vq=large&rel=0&autohide=1&showinfo=0\"\u001b[39;49;00m,\n",
            "    \u001b[94m\"videoImage\"\u001b[39;49;00m: \u001b[33m\"https://play-lh.googleusercontent.com/A0CU27vW7A72ikZhQF3lrchrn4VqkiE3bvszQQv3vECHuqjl-HONAGw3cceDpSoF0G0\"\u001b[39;49;00m\n",
            "  },\n",
            "  {\n",
            "    \u001b[94m\"adSupported\"\u001b[39;49;00m: \u001b[34mnull\u001b[39;49;00m,\n",
            "    \u001b[94m\"androidVersion\"\u001b[39;49;00m: \u001b[33m\"5.0\"\u001b[39;49;00m,\n",
            "    \u001b[94m\"androidVersionText\"\u001b[39;49;00m: \u001b[33m\"5.0 and up\"\u001b[39;49;00m,\n",
            "    \u001b[94m\"appId\"\u001b[39;49;00m: \u001b[33m\"net.omobio.dialog.dialogra\"\u001b[39;49;00m,\n",
            "    \u001b[94m\"containsAds\"\u001b[39;49;00m: \u001b[34mfalse\u001b[39;49;00m,\n",
            "    \u001b[94m\"contentRating\"\u001b[39;49;00m: \u001b[33m\"Rated for 3+\"\u001b[39;49;00m,\n",
            "    \u001b[94m\"contentRatingDescription\"\u001b[39;49;00m: \u001b[34mnull\u001b[39;49;00m,\n",
            "    \u001b[94m\"currency\"\u001b[39;49;00m: \u001b[33m\"LKR\"\u001b[39;49;00m,\n",
            "    \u001b[94m\"description\"\u001b[39;49;00m: \u001b[33m\"The Dialog Retail Hub is a new and revolutionary way for you to onboard new customers by activating Dialog products on a fully digitized process with 100% paperless operation. Now you can provide various services to customers through this app.\\r\\n\\r\\nAll product activations (Mobile, Television and Home Broadband)\\r\\nDialog bill payments\\r\\nSIM changes\\r\\nAccess Doc990\\r\\nWarranty replacements\\r\\nAccessory changes\\r\\nPackage changes (Mobile/DTV/HBB)\\r\\nReload selling\\r\\nValue added service(VAS) activations\"\u001b[39;49;00m,\n",
            "    \u001b[94m\"descriptionHTML\"\u001b[39;49;00m: \u001b[33m\"The Dialog Retail Hub is a new and revolutionary way for you to onboard new customers by activating Dialog products on a fully digitized process with 100% paperless operation. Now you can provide various services to customers through this app.<br><br>All product activations (Mobile, Television and Home Broadband)<br>Dialog bill payments<br>SIM changes<br>Access Doc990<br>Warranty replacements<br>Accessory changes<br>Package changes (Mobile/DTV/HBB)<br>Reload selling<br>Value added service(VAS) activations\"\u001b[39;49;00m,\n",
            "    \u001b[94m\"developer\"\u001b[39;49;00m: \u001b[33m\"Dialog Axiata.\"\u001b[39;49;00m,\n",
            "    \u001b[94m\"developerAddress\"\u001b[39;49;00m: \u001b[34mnull\u001b[39;49;00m,\n",
            "    \u001b[94m\"developerEmail\"\u001b[39;49;00m: \u001b[33m\"retailhubsupport@dialog.lk\"\u001b[39;49;00m,\n",
            "    \u001b[94m\"developerId\"\u001b[39;49;00m: \u001b[33m\"Dialog+Axiata.\"\u001b[39;49;00m,\n",
            "    \u001b[94m\"developerInternalID\"\u001b[39;49;00m: \u001b[33m\"6304144798151759586\"\u001b[39;49;00m,\n",
            "    \u001b[94m\"developerWebsite\"\u001b[39;49;00m: \u001b[33m\"http://www.dialog.lk\"\u001b[39;49;00m,\n",
            "    \u001b[94m\"editorsChoice\"\u001b[39;49;00m: \u001b[34mfalse\u001b[39;49;00m,\n",
            "    \u001b[94m\"free\"\u001b[39;49;00m: \u001b[34mtrue\u001b[39;49;00m,\n",
            "    \u001b[94m\"genre\"\u001b[39;49;00m: \u001b[33m\"Business\"\u001b[39;49;00m,\n",
            "    \u001b[94m\"genreId\"\u001b[39;49;00m: \u001b[33m\"BUSINESS\"\u001b[39;49;00m,\n",
            "    \u001b[94m\"headerImage\"\u001b[39;49;00m: \u001b[33m\"https://play-lh.googleusercontent.com/_HVUuAIDAx_D0bKRPxdoQkQI4dm85f-LJFTcko9xp7SedNIGm7YY99_208QoG0Cira4\"\u001b[39;49;00m,\n",
            "    \u001b[94m\"histogram\"\u001b[39;49;00m: [\n",
            "      \u001b[34m295\u001b[39;49;00m,\n",
            "      \u001b[34m37\u001b[39;49;00m,\n",
            "      \u001b[34m28\u001b[39;49;00m,\n",
            "      \u001b[34m95\u001b[39;49;00m,\n",
            "      \u001b[34m685\u001b[39;49;00m\n",
            "    ],\n",
            "    \u001b[94m\"icon\"\u001b[39;49;00m: \u001b[33m\"https://play-lh.googleusercontent.com/rhXXvMdZjSBuQvbxxalVlFVGXuIc8wrmGaYhyyB0eSxMz7R6TSERotNwTxEXkewBZ50\"\u001b[39;49;00m,\n",
            "    \u001b[94m\"inAppProductPrice\"\u001b[39;49;00m: \u001b[34mnull\u001b[39;49;00m,\n",
            "    \u001b[94m\"installs\"\u001b[39;49;00m: \u001b[33m\"100,000+\"\u001b[39;49;00m,\n",
            "    \u001b[94m\"minInstalls\"\u001b[39;49;00m: \u001b[34m100000\u001b[39;49;00m,\n",
            "    \u001b[94m\"moreByDeveloper\"\u001b[39;49;00m: [\n",
            "      \u001b[33m\"com.dialog.dialoggo\"\u001b[39;49;00m,\n",
            "      \u001b[33m\"lk.dialog.megarunlor\"\u001b[39;49;00m,\n",
            "      \u001b[33m\"lk.dialog.ewallet\"\u001b[39;49;00m,\n",
            "      \u001b[33m\"com.atlinkcom.starpointapp\"\u001b[39;49;00m,\n",
            "      \u001b[33m\"com.arimaclanka.android.govimithuru\"\u001b[39;49;00m\n",
            "    ],\n",
            "    \u001b[94m\"offersIAP\"\u001b[39;49;00m: \u001b[34mfalse\u001b[39;49;00m,\n",
            "    \u001b[94m\"originalPrice\"\u001b[39;49;00m: \u001b[34mnull\u001b[39;49;00m,\n",
            "    \u001b[94m\"price\"\u001b[39;49;00m: \u001b[34m0\u001b[39;49;00m,\n",
            "    \u001b[94m\"privacyPolicy\"\u001b[39;49;00m: \u001b[33m\"https://www.dialog.lk/privacy-policy\"\u001b[39;49;00m,\n",
            "    \u001b[94m\"ratings\"\u001b[39;49;00m: \u001b[34m1140\u001b[39;49;00m,\n",
            "    \u001b[94m\"recentChanges\"\u001b[39;49;00m: \u001b[33m\"Thank you for using Dialog Retail Hub! We regularly bring out updates to the app store to improve your experience.  Here are a few enhancements you\\u2019ll find in the latest update.\\r\\n\\r\\n- Improved experience on Dialog Home broadband activation\\r\\n- Bug fixes and performance improvements\"\u001b[39;49;00m,\n",
            "    \u001b[94m\"recentChangesHTML\"\u001b[39;49;00m: \u001b[33m\"Thank you for using Dialog Retail Hub! We regularly bring out updates to the app store to improve your experience.  Here are a few enhancements you\\u2019ll find in the latest update.<br><br>- Improved experience on Dialog Home broadband activation<br>- Bug fixes and performance improvements\"\u001b[39;49;00m,\n",
            "    \u001b[94m\"released\"\u001b[39;49;00m: \u001b[33m\"Oct 4, 2018\"\u001b[39;49;00m,\n",
            "    \u001b[94m\"reviews\"\u001b[39;49;00m: \u001b[34m420\u001b[39;49;00m,\n",
            "    \u001b[94m\"sale\"\u001b[39;49;00m: \u001b[34mfalse\u001b[39;49;00m,\n",
            "    \u001b[94m\"saleText\"\u001b[39;49;00m: \u001b[34mnull\u001b[39;49;00m,\n",
            "    \u001b[94m\"saleTime\"\u001b[39;49;00m: \u001b[34mnull\u001b[39;49;00m,\n",
            "    \u001b[94m\"score\"\u001b[39;49;00m: \u001b[34m3.7333333\u001b[39;49;00m,\n",
            "    \u001b[94m\"screenshots\"\u001b[39;49;00m: [\n",
            "      \u001b[33m\"https://play-lh.googleusercontent.com/Ng39dYBQSsUMbE8s6rhgrXpD_ecwRsyuMfUG1kAI6Pi3J0ppSzrmfA68a3emZJ2LoQ\"\u001b[39;49;00m,\n",
            "      \u001b[33m\"https://play-lh.googleusercontent.com/W5PT66hb_eAZcm2wJjtjVGQ9Aj2GC42oK08Uub_8iwd2Gdh_dO0Z59-9N3wgzbTzfE0\"\u001b[39;49;00m,\n",
            "      \u001b[33m\"https://play-lh.googleusercontent.com/1MMUE3d5MsVCngEROIrfjVL63fWmtDGyzuuAr3tq-4CGTXlGRaxOMivuulD7cjwG8g\"\u001b[39;49;00m,\n",
            "      \u001b[33m\"https://play-lh.googleusercontent.com/6o5k7FIDy8SNbGP0Utb1jh5zIGVxvvrUXf7HFLG4ukuWaXJQFuQSG9zrC-JARLuzmqch\"\u001b[39;49;00m,\n",
            "      \u001b[33m\"https://play-lh.googleusercontent.com/xyyPs3AzKwnLlWXjcIojfSB9oPkE08LT8GLubTHJol3Xglg8YTJBtxwwxJGm5CnP6F4\"\u001b[39;49;00m,\n",
            "      \u001b[33m\"https://play-lh.googleusercontent.com/hgrlCF9eXtCKGSCABAbWOyBJxQZRbzKvwc42O6Yjirm-Ko6hqgbu30S2Zni_nHSbuBk\"\u001b[39;49;00m\n",
            "    ],\n",
            "    \u001b[94m\"similarApps\"\u001b[39;49;00m: [\n",
            "      \u001b[33m\"com.airtel.xlabs.retailer.sl\"\u001b[39;49;00m,\n",
            "      \u001b[33m\"lk.tc.finpal\"\u001b[39;49;00m,\n",
            "      \u001b[33m\"net.omobio.dialogsc\"\u001b[39;49;00m,\n",
            "      \u001b[33m\"com.slt.selfcare\"\u001b[39;49;00m,\n",
            "      \u001b[33m\"com.omobio.etisalatone\"\u001b[39;49;00m\n",
            "    ],\n",
            "    \u001b[94m\"size\"\u001b[39;49;00m: \u001b[33m\"75M\"\u001b[39;49;00m,\n",
            "    \u001b[94m\"summary\"\u001b[39;49;00m: \u001b[33m\"One application for all product activation across all channels.\"\u001b[39;49;00m,\n",
            "    \u001b[94m\"summaryHTML\"\u001b[39;49;00m: \u001b[33m\"One application for all product activation across all channels.\"\u001b[39;49;00m,\n",
            "    \u001b[94m\"title\"\u001b[39;49;00m: \u001b[33m\"Dialog Retail Hub\"\u001b[39;49;00m,\n",
            "    \u001b[94m\"updated\"\u001b[39;49;00m: \u001b[34m1645430130\u001b[39;49;00m,\n",
            "    \u001b[94m\"url\"\u001b[39;49;00m: \u001b[33m\"https://play.google.com/store/apps/details?id=net.omobio.dialog.dialogra&hl=en&gl=lk\"\u001b[39;49;00m,\n",
            "    \u001b[94m\"version\"\u001b[39;49;00m: \u001b[33m\"11.1.0\"\u001b[39;49;00m,\n",
            "    \u001b[94m\"video\"\u001b[39;49;00m: \u001b[34mnull\u001b[39;49;00m,\n",
            "    \u001b[94m\"videoImage\"\u001b[39;49;00m: \u001b[34mnull\u001b[39;49;00m\n",
            "  },\n",
            "  {\n",
            "    \u001b[94m\"adSupported\"\u001b[39;49;00m: \u001b[34mnull\u001b[39;49;00m,\n",
            "    \u001b[94m\"androidVersion\"\u001b[39;49;00m: \u001b[33m\"5.0\"\u001b[39;49;00m,\n",
            "    \u001b[94m\"androidVersionText\"\u001b[39;49;00m: \u001b[33m\"5.0 and up\"\u001b[39;49;00m,\n",
            "    \u001b[94m\"appId\"\u001b[39;49;00m: \u001b[33m\"lk.dialog.hometalk\"\u001b[39;49;00m,\n",
            "    \u001b[94m\"containsAds\"\u001b[39;49;00m: \u001b[34mfalse\u001b[39;49;00m,\n",
            "    \u001b[94m\"contentRating\"\u001b[39;49;00m: \u001b[33m\"Rated for 3+\"\u001b[39;49;00m,\n",
            "    \u001b[94m\"contentRatingDescription\"\u001b[39;49;00m: \u001b[34mnull\u001b[39;49;00m,\n",
            "    \u001b[94m\"currency\"\u001b[39;49;00m: \u001b[33m\"LKR\"\u001b[39;49;00m,\n",
            "    \u001b[94m\"description\"\u001b[39;49;00m: \u001b[33m\"Receive and make calls using your Dialog Fixed Landline through this app.\\r\\nUsers can now receive or make calls from their Dialog fixed landline connection via their mobile.\\r\\nSimply download the App, install and follow the instructions to get connected.\\r\\nThis app works in parallel with your Dialog Fixed Line.\\r\\nNote: This app is exclusively available to Dialog Fixed Broadband users. \\r\\nApp is usable only within the Wi-Fi coverage of the Home Broadband router.\\r\\nTo use this app, voice service must be activated on your Home Broadband number.\"\u001b[39;49;00m,\n",
            "    \u001b[94m\"descriptionHTML\"\u001b[39;49;00m: \u001b[33m\"Receive and make calls using your Dialog Fixed Landline through this app.<br>Users can now receive or make calls from their Dialog fixed landline connection via their mobile.<br>Simply download the App, install and follow the instructions to get connected.<br>This app works in parallel with your Dialog Fixed Line.<br>Note: This app is exclusively available to Dialog Fixed Broadband users. <br>App is usable only within the Wi-Fi coverage of the Home Broadband router.<br>To use this app, voice service must be activated on your Home Broadband number.\"\u001b[39;49;00m,\n",
            "    \u001b[94m\"developer\"\u001b[39;49;00m: \u001b[33m\"Dialog Axiata.\"\u001b[39;49;00m,\n",
            "    \u001b[94m\"developerAddress\"\u001b[39;49;00m: \u001b[34mnull\u001b[39;49;00m,\n",
            "    \u001b[94m\"developerEmail\"\u001b[39;49;00m: \u001b[33m\"Chamath.Jayawardana@dialog.lk\"\u001b[39;49;00m,\n",
            "    \u001b[94m\"developerId\"\u001b[39;49;00m: \u001b[33m\"Dialog+Axiata.\"\u001b[39;49;00m,\n",
            "    \u001b[94m\"developerInternalID\"\u001b[39;49;00m: \u001b[33m\"6304144798151759586\"\u001b[39;49;00m,\n",
            "    \u001b[94m\"developerWebsite\"\u001b[39;49;00m: \u001b[33m\"http://www.dialog.lk/hometalk\"\u001b[39;49;00m,\n",
            "    \u001b[94m\"editorsChoice\"\u001b[39;49;00m: \u001b[34mfalse\u001b[39;49;00m,\n",
            "    \u001b[94m\"free\"\u001b[39;49;00m: \u001b[34mtrue\u001b[39;49;00m,\n",
            "    \u001b[94m\"genre\"\u001b[39;49;00m: \u001b[33m\"Communication\"\u001b[39;49;00m,\n",
            "    \u001b[94m\"genreId\"\u001b[39;49;00m: \u001b[33m\"COMMUNICATION\"\u001b[39;49;00m,\n",
            "    \u001b[94m\"headerImage\"\u001b[39;49;00m: \u001b[33m\"https://play-lh.googleusercontent.com/bO7j4a6U-v4qEofqwQYql3I1Jp7SexKF9XCzLIH9AN5daxV20C6Xn2Z5G09vuPOUhYA\"\u001b[39;49;00m,\n",
            "    \u001b[94m\"histogram\"\u001b[39;49;00m: [\n",
            "      \u001b[34m69\u001b[39;49;00m,\n",
            "      \u001b[34m6\u001b[39;49;00m,\n",
            "      \u001b[34m20\u001b[39;49;00m,\n",
            "      \u001b[34m26\u001b[39;49;00m,\n",
            "      \u001b[34m115\u001b[39;49;00m\n",
            "    ],\n",
            "    \u001b[94m\"icon\"\u001b[39;49;00m: \u001b[33m\"https://play-lh.googleusercontent.com/iGKqnDvLOYlaR4j__Y1rLuV7aib0p53sDXkA-9a25dz0g_lMKM_ueyCl0fkmDH4yQWdK\"\u001b[39;49;00m,\n",
            "    \u001b[94m\"inAppProductPrice\"\u001b[39;49;00m: \u001b[34mnull\u001b[39;49;00m,\n",
            "    \u001b[94m\"installs\"\u001b[39;49;00m: \u001b[33m\"10,000+\"\u001b[39;49;00m,\n",
            "    \u001b[94m\"minInstalls\"\u001b[39;49;00m: \u001b[34m10000\u001b[39;49;00m,\n",
            "    \u001b[94m\"moreByDeveloper\"\u001b[39;49;00m: [\n",
            "      \u001b[33m\"com.dialog.dialoggo\"\u001b[39;49;00m,\n",
            "      \u001b[33m\"lk.dialog.megarunlor\"\u001b[39;49;00m,\n",
            "      \u001b[33m\"lk.dialog.ewallet\"\u001b[39;49;00m,\n",
            "      \u001b[33m\"com.atlinkcom.starpointapp\"\u001b[39;49;00m,\n",
            "      \u001b[33m\"com.arimaclanka.android.govimithuru\"\u001b[39;49;00m\n",
            "    ],\n",
            "    \u001b[94m\"offersIAP\"\u001b[39;49;00m: \u001b[34mfalse\u001b[39;49;00m,\n",
            "    \u001b[94m\"originalPrice\"\u001b[39;49;00m: \u001b[34mnull\u001b[39;49;00m,\n",
            "    \u001b[94m\"price\"\u001b[39;49;00m: \u001b[34m0\u001b[39;49;00m,\n",
            "    \u001b[94m\"privacyPolicy\"\u001b[39;49;00m: \u001b[33m\"https://www.dialog.lk/privacy-policy\"\u001b[39;49;00m,\n",
            "    \u001b[94m\"ratings\"\u001b[39;49;00m: \u001b[34m236\u001b[39;49;00m,\n",
            "    \u001b[94m\"recentChanges\"\u001b[39;49;00m: \u001b[33m\"Dial pad functionality while in a call for IVR option selection and performance improvments\"\u001b[39;49;00m,\n",
            "    \u001b[94m\"recentChangesHTML\"\u001b[39;49;00m: \u001b[33m\"Dial pad functionality while in a call for IVR option selection and performance improvments\"\u001b[39;49;00m,\n",
            "    \u001b[94m\"released\"\u001b[39;49;00m: \u001b[33m\"May 14, 2020\"\u001b[39;49;00m,\n",
            "    \u001b[94m\"reviews\"\u001b[39;49;00m: \u001b[34m147\u001b[39;49;00m,\n",
            "    \u001b[94m\"sale\"\u001b[39;49;00m: \u001b[34mfalse\u001b[39;49;00m,\n",
            "    \u001b[94m\"saleText\"\u001b[39;49;00m: \u001b[34mnull\u001b[39;49;00m,\n",
            "    \u001b[94m\"saleTime\"\u001b[39;49;00m: \u001b[34mnull\u001b[39;49;00m,\n",
            "    \u001b[94m\"score\"\u001b[39;49;00m: \u001b[34m3.46\u001b[39;49;00m,\n",
            "    \u001b[94m\"screenshots\"\u001b[39;49;00m: [\n",
            "      \u001b[33m\"https://play-lh.googleusercontent.com/bclpTvEbXKgKxbEjmIc-R4FtGvLMWdU27oDSlG8iKkuOnE86smqPocu2waTCOGasTD0\"\u001b[39;49;00m,\n",
            "      \u001b[33m\"https://play-lh.googleusercontent.com/6_FmklKPdHFttkHmis6N1wwwqVTNAUKghy6os9r7g89PMWs-qwjzNxdU56lOmk1UqmIz\"\u001b[39;49;00m,\n",
            "      \u001b[33m\"https://play-lh.googleusercontent.com/PE31GIfoPMT7Itqo3hTMJkkYro3Jx98d8ULlTA_6ZLVph0fnA3agelIOG7dlqjaEnQ\"\u001b[39;49;00m,\n",
            "      \u001b[33m\"https://play-lh.googleusercontent.com/VYbNQ_1ho1O14kr0luljVN37R3UQjvVaBB8X1PlVpHWBWpc-jWEluz9nEBUtH1jPgw\"\u001b[39;49;00m,\n",
            "      \u001b[33m\"https://play-lh.googleusercontent.com/cvnlDkmwjaE30L8SvdRSanwTTkSSNXt8aHUw8X9Q2fsVuGruQZAy2srtx_YALh978PqH\"\u001b[39;49;00m,\n",
            "      \u001b[33m\"https://play-lh.googleusercontent.com/euI4e96-wTnOW3wdp3oPFZga_mNYeVM6hINxE5hl2LAEu8VegahCxvFX90qAX5nrv3w\"\u001b[39;49;00m,\n",
            "      \u001b[33m\"https://play-lh.googleusercontent.com/L2WIQUur4t7Ty-d2rj7xu7MuiX3UW4Kv-OYD6crz6XTiW0FoDKOrAEKf-cB8oLz4pdvc\"\u001b[39;49;00m,\n",
            "      \u001b[33m\"https://play-lh.googleusercontent.com/KHt6eiw2mQRdrY479gR3wYRrQI004PyqIEL9ghh6yOT8TB15LOdtwVO5J6U8KDs81Q\"\u001b[39;49;00m\n",
            "    ],\n",
            "    \u001b[94m\"similarApps\"\u001b[39;49;00m: [\n",
            "      \u001b[33m\"com.airtel.xlabs.retailer.sl\"\u001b[39;49;00m,\n",
            "      \u001b[33m\"com.dlink.nucliasconnect\"\u001b[39;49;00m,\n",
            "      \u001b[33m\"com.slt.selfcare\"\u001b[39;49;00m,\n",
            "      \u001b[33m\"com.balda.mailtask\"\u001b[39;49;00m,\n",
            "      \u001b[33m\"com.gnet.onemeeting\"\u001b[39;49;00m\n",
            "    ],\n",
            "    \u001b[94m\"size\"\u001b[39;49;00m: \u001b[33m\"31M\"\u001b[39;49;00m,\n",
            "    \u001b[94m\"summary\"\u001b[39;49;00m: \u001b[33m\"Receive and make calls on your Dialog Fixed Landline via this app.\"\u001b[39;49;00m,\n",
            "    \u001b[94m\"summaryHTML\"\u001b[39;49;00m: \u001b[33m\"Receive and make calls on your Dialog Fixed Landline via this app.\"\u001b[39;49;00m,\n",
            "    \u001b[94m\"title\"\u001b[39;49;00m: \u001b[33m\"Dialog HomeTalk\"\u001b[39;49;00m,\n",
            "    \u001b[94m\"updated\"\u001b[39;49;00m: \u001b[34m1611313912\u001b[39;49;00m,\n",
            "    \u001b[94m\"url\"\u001b[39;49;00m: \u001b[33m\"https://play.google.com/store/apps/details?id=lk.dialog.hometalk&hl=en&gl=lk\"\u001b[39;49;00m,\n",
            "    \u001b[94m\"version\"\u001b[39;49;00m: \u001b[33m\"1.5.0.4\"\u001b[39;49;00m,\n",
            "    \u001b[94m\"video\"\u001b[39;49;00m: \u001b[34mnull\u001b[39;49;00m,\n",
            "    \u001b[94m\"videoImage\"\u001b[39;49;00m: \u001b[34mnull\u001b[39;49;00m\n",
            "  }\n",
            "]\n",
            "\n"
          ]
        }
      ]
    },
    {
      "cell_type": "code",
      "source": [
        "import urllib\n",
        "import matplotlib.image as mpimg \n",
        "import matplotlib.pyplot as plt "
      ],
      "metadata": {
        "id": "bPtxvlmOPi-3"
      },
      "execution_count": 20,
      "outputs": []
    },
    {
      "cell_type": "code",
      "source": [
        "def format_title(title):\n",
        "  sep_index = title.find(':') if title.find(':') != -1 else title.find('-')\n",
        "  if sep_index != -1:\n",
        "    title = title[:sep_index]\n",
        "  return title[:10]\n",
        "\n",
        "fig, axs = plt.subplots(2, len(app_infos) // 2, figsize=(14, 5))\n",
        "\n",
        "for i, ax in enumerate(axs.flat):\n",
        "  ai = app_infos[i]\n",
        "  #f = urllib.request.urlopen(ai['icon'])\n",
        "  img = plt.imread(ai['icon'],0)\n",
        "  #img = mpimg.imread(ai['icon'])\n",
        "  ax.imshow(img)\n",
        "  ax.set_title(format_title(ai['title']))\n",
        "  ax.axis('off')\n",
        "\n",
        "# Read Images \n",
        "#img = mpimg.imread('C:/Users/alvar/Desktop/IE/1 - Full-time/Term 2/Machine Learning 2/Assigments/Group/For sunday/Tanzania.png') \n",
        "\n",
        "# Output Images \n",
        "#plt.imshow(img)\n"
      ],
      "metadata": {
        "colab": {
          "base_uri": "https://localhost:8080/",
          "height": 727
        },
        "id": "3D892YbUFqSU",
        "outputId": "3f0ca4c1-ff43-4a89-92ea-a59c6bdd18c6"
      },
      "execution_count": 22,
      "outputs": [
        {
          "output_type": "error",
          "ename": "FileNotFoundError",
          "evalue": "ignored",
          "traceback": [
            "\u001b[0;31m---------------------------------------------------------------------------\u001b[0m",
            "\u001b[0;31mFileNotFoundError\u001b[0m                         Traceback (most recent call last)",
            "\u001b[0;32m<ipython-input-22-483a56920da0>\u001b[0m in \u001b[0;36m<module>\u001b[0;34m()\u001b[0m\n\u001b[1;32m     10\u001b[0m   \u001b[0mai\u001b[0m \u001b[0;34m=\u001b[0m \u001b[0mapp_infos\u001b[0m\u001b[0;34m[\u001b[0m\u001b[0mi\u001b[0m\u001b[0;34m]\u001b[0m\u001b[0;34m\u001b[0m\u001b[0;34m\u001b[0m\u001b[0m\n\u001b[1;32m     11\u001b[0m   \u001b[0;31m#f = urllib.request.urlopen(ai['icon'])\u001b[0m\u001b[0;34m\u001b[0m\u001b[0;34m\u001b[0m\u001b[0;34m\u001b[0m\u001b[0m\n\u001b[0;32m---> 12\u001b[0;31m   \u001b[0mimg\u001b[0m \u001b[0;34m=\u001b[0m \u001b[0mplt\u001b[0m\u001b[0;34m.\u001b[0m\u001b[0mimread\u001b[0m\u001b[0;34m(\u001b[0m\u001b[0mai\u001b[0m\u001b[0;34m[\u001b[0m\u001b[0;34m'icon'\u001b[0m\u001b[0;34m]\u001b[0m\u001b[0;34m,\u001b[0m\u001b[0;36m0\u001b[0m\u001b[0;34m)\u001b[0m\u001b[0;34m\u001b[0m\u001b[0;34m\u001b[0m\u001b[0m\n\u001b[0m\u001b[1;32m     13\u001b[0m   \u001b[0;31m#img = mpimg.imread(ai['icon'])\u001b[0m\u001b[0;34m\u001b[0m\u001b[0;34m\u001b[0m\u001b[0;34m\u001b[0m\u001b[0m\n\u001b[1;32m     14\u001b[0m   \u001b[0max\u001b[0m\u001b[0;34m.\u001b[0m\u001b[0mimshow\u001b[0m\u001b[0;34m(\u001b[0m\u001b[0mimg\u001b[0m\u001b[0;34m)\u001b[0m\u001b[0;34m\u001b[0m\u001b[0;34m\u001b[0m\u001b[0m\n",
            "\u001b[0;32m/usr/local/lib/python3.7/dist-packages/matplotlib/pyplot.py\u001b[0m in \u001b[0;36mimread\u001b[0;34m(fname, format)\u001b[0m\n\u001b[1;32m   2059\u001b[0m \u001b[0;34m@\u001b[0m\u001b[0mdocstring\u001b[0m\u001b[0;34m.\u001b[0m\u001b[0mcopy\u001b[0m\u001b[0;34m(\u001b[0m\u001b[0mmatplotlib\u001b[0m\u001b[0;34m.\u001b[0m\u001b[0mimage\u001b[0m\u001b[0;34m.\u001b[0m\u001b[0mimread\u001b[0m\u001b[0;34m)\u001b[0m\u001b[0;34m\u001b[0m\u001b[0;34m\u001b[0m\u001b[0m\n\u001b[1;32m   2060\u001b[0m \u001b[0;32mdef\u001b[0m \u001b[0mimread\u001b[0m\u001b[0;34m(\u001b[0m\u001b[0mfname\u001b[0m\u001b[0;34m,\u001b[0m \u001b[0mformat\u001b[0m\u001b[0;34m=\u001b[0m\u001b[0;32mNone\u001b[0m\u001b[0;34m)\u001b[0m\u001b[0;34m:\u001b[0m\u001b[0;34m\u001b[0m\u001b[0;34m\u001b[0m\u001b[0m\n\u001b[0;32m-> 2061\u001b[0;31m     \u001b[0;32mreturn\u001b[0m \u001b[0mmatplotlib\u001b[0m\u001b[0;34m.\u001b[0m\u001b[0mimage\u001b[0m\u001b[0;34m.\u001b[0m\u001b[0mimread\u001b[0m\u001b[0;34m(\u001b[0m\u001b[0mfname\u001b[0m\u001b[0;34m,\u001b[0m \u001b[0mformat\u001b[0m\u001b[0;34m)\u001b[0m\u001b[0;34m\u001b[0m\u001b[0;34m\u001b[0m\u001b[0m\n\u001b[0m\u001b[1;32m   2062\u001b[0m \u001b[0;34m\u001b[0m\u001b[0m\n\u001b[1;32m   2063\u001b[0m \u001b[0;34m\u001b[0m\u001b[0m\n",
            "\u001b[0;32m/usr/local/lib/python3.7/dist-packages/matplotlib/image.py\u001b[0m in \u001b[0;36mimread\u001b[0;34m(fname, format)\u001b[0m\n\u001b[1;32m   1462\u001b[0m             raise ValueError('Only know how to handle PNG; with Pillow '\n\u001b[1;32m   1463\u001b[0m                              'installed, Matplotlib can handle more images')\n\u001b[0;32m-> 1464\u001b[0;31m         \u001b[0;32mwith\u001b[0m \u001b[0mImage\u001b[0m\u001b[0;34m.\u001b[0m\u001b[0mopen\u001b[0m\u001b[0;34m(\u001b[0m\u001b[0mfname\u001b[0m\u001b[0;34m)\u001b[0m \u001b[0;32mas\u001b[0m \u001b[0mimage\u001b[0m\u001b[0;34m:\u001b[0m\u001b[0;34m\u001b[0m\u001b[0;34m\u001b[0m\u001b[0m\n\u001b[0m\u001b[1;32m   1465\u001b[0m             \u001b[0;32mreturn\u001b[0m \u001b[0mpil_to_array\u001b[0m\u001b[0;34m(\u001b[0m\u001b[0mimage\u001b[0m\u001b[0;34m)\u001b[0m\u001b[0;34m\u001b[0m\u001b[0;34m\u001b[0m\u001b[0m\n\u001b[1;32m   1466\u001b[0m     \u001b[0;32mfrom\u001b[0m \u001b[0mmatplotlib\u001b[0m \u001b[0;32mimport\u001b[0m \u001b[0m_png\u001b[0m\u001b[0;34m\u001b[0m\u001b[0;34m\u001b[0m\u001b[0m\n",
            "\u001b[0;32m/usr/local/lib/python3.7/dist-packages/PIL/Image.py\u001b[0m in \u001b[0;36mopen\u001b[0;34m(fp, mode)\u001b[0m\n\u001b[1;32m   2841\u001b[0m \u001b[0;34m\u001b[0m\u001b[0m\n\u001b[1;32m   2842\u001b[0m     \u001b[0;32mif\u001b[0m \u001b[0mfilename\u001b[0m\u001b[0;34m:\u001b[0m\u001b[0;34m\u001b[0m\u001b[0;34m\u001b[0m\u001b[0m\n\u001b[0;32m-> 2843\u001b[0;31m         \u001b[0mfp\u001b[0m \u001b[0;34m=\u001b[0m \u001b[0mbuiltins\u001b[0m\u001b[0;34m.\u001b[0m\u001b[0mopen\u001b[0m\u001b[0;34m(\u001b[0m\u001b[0mfilename\u001b[0m\u001b[0;34m,\u001b[0m \u001b[0;34m\"rb\"\u001b[0m\u001b[0;34m)\u001b[0m\u001b[0;34m\u001b[0m\u001b[0;34m\u001b[0m\u001b[0m\n\u001b[0m\u001b[1;32m   2844\u001b[0m         \u001b[0mexclusive_fp\u001b[0m \u001b[0;34m=\u001b[0m \u001b[0;32mTrue\u001b[0m\u001b[0;34m\u001b[0m\u001b[0;34m\u001b[0m\u001b[0m\n\u001b[1;32m   2845\u001b[0m \u001b[0;34m\u001b[0m\u001b[0m\n",
            "\u001b[0;31mFileNotFoundError\u001b[0m: [Errno 2] No such file or directory: 'https://play-lh.googleusercontent.com/9uy9IoCetw4PQMpY5bBOdnFjK2pBNFH-cEUNGBJSVElqAQh6_gscat25hRw20A_5jnc'"
          ]
        },
        {
          "output_type": "display_data",
          "data": {
            "text/plain": [
              "<Figure size 1008x360 with 2 Axes>"
            ],
            "image/png": "[encoded data removed]"
          },
          "metadata": {
            "image/png": {
              "width": 844,
              "height": 313
            }
          }
        }
      ]
    },
    {
      "cell_type": "code",
      "source": [
        "\n",
        "# from skimage import io\n",
        "# import matplotlib.pyplot as plt\n",
        "# url1 = 'https://play-lh.googleusercontent.com/9uy9IoCetw4PQMpY5bBOdnFjK2pBNFH-cEUNGBJSVElqAQh6_gscat25hRw20A_5jnc'\n",
        "# url2 = 'https://play-lh.googleusercontent.com/rhXXvMdZjSBuQvbxxalVlFVGXuIc8wrmGaYhyyB0eSxMz7R6TSERotNwTxEXkewBZ50'\n",
        "# image1 = io.imread(url1)\n",
        "# image2 = io.imread(url2)\n",
        "# plt.imshow(image1)\n",
        "# plt.imshow(image2)\n",
        "# plt.show()\n",
        "# plt.show()"
      ],
      "metadata": {
        "id": "WNlSZJH2UhoW"
      },
      "execution_count": 23,
      "outputs": []
    },
    {
      "cell_type": "code",
      "source": [
        ""
      ],
      "metadata": {
        "id": "E0U1C1_uTTkZ"
      },
      "execution_count": 23,
      "outputs": []
    },
    {
      "cell_type": "code",
      "source": [
        "app_infos_df = pd.DataFrame(app_infos)\n",
        "app_infos_df.to_csv('apps.csv', index=None, header=True)"
      ],
      "metadata": {
        "id": "OxFq8eaNO6nQ"
      },
      "execution_count": 24,
      "outputs": []
    },
    {
      "cell_type": "code",
      "source": [
        "app_infos_df.shape"
      ],
      "metadata": {
        "colab": {
          "base_uri": "https://localhost:8080/"
        },
        "id": "ZGk0VlMkv9rB",
        "outputId": "9d1cc5e1-fbb8-4a74-8701-b57766934a02"
      },
      "execution_count": 26,
      "outputs": [
        {
          "output_type": "execute_result",
          "data": {
            "text/plain": [
              "(3, 51)"
            ]
          },
          "metadata": {},
          "execution_count": 26
        }
      ]
    },
    {
      "cell_type": "markdown",
      "source": [
        "## Scraping App Reviews\n",
        "In an ideal world, we would get all the reviews. But there are lots of them and we're scraping the data. That wouldn't be very polite. What should we do?\n",
        "\n",
        "We want:\n",
        "\n",
        "Balanced dataset - roughly the same number of reviews for each score (1-5)\n",
        "A representative sample of the reviews for each app\n",
        "We can satisfy the first requirement by using the scraping package option to filter the review score. For the second, we'll sort the reviews by their helpfulness, which are the reviews that Google Play thinks are most important. Just in case, we'll get a subset from the newest, too:"
      ],
      "metadata": {
        "id": "5KqzB-hQTVMw"
      }
    },
    {
      "cell_type": "code",
      "source": [
        "app_reviews = []\n",
        "\n",
        "for ap in tqdm(app_packages):\n",
        "  for score in list(range(1, 6)):\n",
        "    for sort_order in [Sort.MOST_RELEVANT, Sort.NEWEST]:\n",
        "      rvs, _ = reviews(\n",
        "        ap,\n",
        "        lang='en',\n",
        "        country='lk',\n",
        "        sort=sort_order,\n",
        "        count= 200 if score == 3 else 100,\n",
        "        filter_score_with=score\n",
        "      )\n",
        "      for r in rvs:\n",
        "        r['sortOrder'] = 'most_relevant' if sort_order == Sort.MOST_RELEVANT else 'newest'\n",
        "        r['appId'] = ap\n",
        "      app_reviews.extend(rvs)"
      ],
      "metadata": {
        "colab": {
          "base_uri": "https://localhost:8080/"
        },
        "id": "yZGr56HuV0Mm",
        "outputId": "59f24542-6417-4d75-d1ae-0355acb4874a"
      },
      "execution_count": 28,
      "outputs": [
        {
          "output_type": "stream",
          "name": "stderr",
          "text": [
            "100%|██████████| 3/3 [00:05<00:00,  1.80s/it]\n"
          ]
        }
      ]
    },
    {
      "cell_type": "code",
      "source": [
        "print_json(app_reviews[0])"
      ],
      "metadata": {
        "colab": {
          "base_uri": "https://localhost:8080/"
        },
        "id": "fNv2sXYtV4HK",
        "outputId": "bfaa91cb-a27f-452d-c432-8a354d995551"
      },
      "execution_count": 29,
      "outputs": [
        {
          "output_type": "stream",
          "name": "stdout",
          "text": [
            "{\n",
            "  \u001b[94m\"appId\"\u001b[39;49;00m: \u001b[33m\"net.omobio.dialogsc\"\u001b[39;49;00m,\n",
            "  \u001b[94m\"at\"\u001b[39;49;00m: \u001b[33m\"2022-03-28 13:30:20\"\u001b[39;49;00m,\n",
            "  \u001b[94m\"content\"\u001b[39;49;00m: \u001b[33m\"This app crashes itself and to say its slows down always. I've wanted to say this for a long time but your connection is the worst it takes a long time to download anything via WiFi. I even play games with it and the ping goes unexpectedly high with no reason please fix this issue as soon as possible or else you may lose many of your valuable customers including me.\"\u001b[39;49;00m,\n",
            "  \u001b[94m\"repliedAt\"\u001b[39;49;00m: \u001b[33m\"2022-03-28 13:35:41\"\u001b[39;49;00m,\n",
            "  \u001b[94m\"replyContent\"\u001b[39;49;00m: \u001b[33m\"Hi, Apologies for any inconvenience caused to you. We are continuously improving the speed and the stability of the app, and keep the app always updated with the latest version. If you are facing any data slowness or low signal issues, kindly reach us via the WhatsApp hotline (777678678) to get better assistance.\\n\\n\"\u001b[39;49;00m,\n",
            "  \u001b[94m\"reviewCreatedVersion\"\u001b[39;49;00m: \u001b[33m\"15.0.0\"\u001b[39;49;00m,\n",
            "  \u001b[94m\"reviewId\"\u001b[39;49;00m: \u001b[33m\"gp:AOqpTOFmkeI1XOO07WI0eRg_giDS45Jw9B4i75kpmUHZ0dO6BS7jEndba5PbNRepnfZRDeOqRGsEGjqrOpmY-Q\"\u001b[39;49;00m,\n",
            "  \u001b[94m\"score\"\u001b[39;49;00m: \u001b[34m1\u001b[39;49;00m,\n",
            "  \u001b[94m\"sortOrder\"\u001b[39;49;00m: \u001b[33m\"most_relevant\"\u001b[39;49;00m,\n",
            "  \u001b[94m\"thumbsUpCount\"\u001b[39;49;00m: \u001b[34m84\u001b[39;49;00m,\n",
            "  \u001b[94m\"userImage\"\u001b[39;49;00m: \u001b[33m\"https://play-lh.googleusercontent.com/a-/AOh14GjlvTZcuSupn--7AI-UKC9UFXIKT2xFvXKRG8D8pg\"\u001b[39;49;00m,\n",
            "  \u001b[94m\"userName\"\u001b[39;49;00m: \u001b[33m\"lushitharan\"\u001b[39;49;00m\n",
            "}\n",
            "\n"
          ]
        }
      ]
    },
    {
      "cell_type": "code",
      "source": [
        "len(app_reviews)"
      ],
      "metadata": {
        "colab": {
          "base_uri": "https://localhost:8080/"
        },
        "id": "sbddWJzSV-PN",
        "outputId": "3b7f64a9-cb0f-4b6c-a812-6d18ddc1e06c"
      },
      "execution_count": 30,
      "outputs": [
        {
          "output_type": "execute_result",
          "data": {
            "text/plain": [
              "2040"
            ]
          },
          "metadata": {},
          "execution_count": 30
        }
      ]
    },
    {
      "cell_type": "code",
      "source": [
        "app_reviews_df = pd.DataFrame(app_reviews)\n",
        "app_reviews_df.to_csv('Dlg_Apps_reviews_ggl.csv', index=None, header=True) # Save review"
      ],
      "metadata": {
        "id": "0iz79SXAWCQH"
      },
      "execution_count": 34,
      "outputs": []
    },
    {
      "cell_type": "code",
      "source": [
        "app_reviews_df.head()"
      ],
      "metadata": {
        "colab": {
          "base_uri": "https://localhost:8080/",
          "height": 739
        },
        "id": "GuMnhghcWLcp",
        "outputId": "a98b2dff-700b-450d-ec4b-92a6417e5349"
      },
      "execution_count": 32,
      "outputs": [
        {
          "output_type": "execute_result",
          "data": {
            "text/plain": [
              "                                            reviewId              userName  \\\n",
              "0  gp:AOqpTOFmkeI1XOO07WI0eRg_giDS45Jw9B4i75kpmUH...           lushitharan   \n",
              "1  gp:AOqpTOEclc0vKFgbr6svyQdhSlcrAkVEfnnpV2IDBXH...        Buddhima Zoysa   \n",
              "2  gp:AOqpTOHQKYC6pqA_ACyosBplqa0CjFkc_M5rdSfZ1Hm...  Shahinth Jeewaratnam   \n",
              "3  gp:AOqpTOGnCP1DH23IcAQWufUw99m7eZ7k0dsO9OrzVRZ...   Harshana Wijesinghe   \n",
              "4  gp:AOqpTOEMhrCIitAReGzQUig_z3He1Vvnm-wKmIGbE9o...         Areeba Haroon   \n",
              "\n",
              "                                           userImage  \\\n",
              "0  https://play-lh.googleusercontent.com/a-/AOh14...   \n",
              "1  https://play-lh.googleusercontent.com/a/AATXAJ...   \n",
              "2  https://play-lh.googleusercontent.com/a/AATXAJ...   \n",
              "3  https://play-lh.googleusercontent.com/a-/AOh14...   \n",
              "4  https://play-lh.googleusercontent.com/a-/AOh14...   \n",
              "\n",
              "                                             content  score  thumbsUpCount  \\\n",
              "0  This app crashes itself and to say its slows d...      1             84   \n",
              "1  When I open the app I have to wait about from ...      1            518   \n",
              "2  The App is extremely poor as always. The Previ...      1              1   \n",
              "3  Please change the new UI to the older one or a...      1            335   \n",
              "4  The app is extremely slow. Literally takes 5 m...      1            681   \n",
              "\n",
              "  reviewCreatedVersion                  at  \\\n",
              "0               15.0.0 2022-03-28 13:30:20   \n",
              "1               14.3.0 2022-01-27 02:24:43   \n",
              "2                 None 2022-03-05 15:43:35   \n",
              "3               14.0.1 2021-03-23 09:58:02   \n",
              "4               14.1.1 2021-07-15 18:58:54   \n",
              "\n",
              "                                        replyContent           repliedAt  \\\n",
              "0  Hi, Apologies for any inconvenience caused to ... 2022-03-28 13:35:41   \n",
              "1  Hi, Thankyou for your feedback. Our team is cu... 2022-01-27 03:06:02   \n",
              "2  Hi Shahinth !\\n\\nPlease share more details of ... 2022-03-05 15:52:16   \n",
              "3  Hi Harshana,\\nAs mobile phone technology is co... 2021-03-23 10:19:00   \n",
              "4  Hi Areeba, We are extremely sorry about the un... 2021-07-15 19:34:15   \n",
              "\n",
              "       sortOrder                appId  \n",
              "0  most_relevant  net.omobio.dialogsc  \n",
              "1  most_relevant  net.omobio.dialogsc  \n",
              "2  most_relevant  net.omobio.dialogsc  \n",
              "3  most_relevant  net.omobio.dialogsc  \n",
              "4  most_relevant  net.omobio.dialogsc  "
            ],
            "text/html": [
              "\n",
              "  <div id=\"df-6c762ce0-88e4-4d9c-9f6a-2c581762fc3a\">\n",
              "    <div class=\"colab-df-container\">\n",
              "      <div>\n",
              "<style scoped>\n",
              "    .dataframe tbody tr th:only-of-type {\n",
              "        vertical-align: middle;\n",
              "    }\n",
              "\n",
              "    .dataframe tbody tr th {\n",
              "        vertical-align: top;\n",
              "    }\n",
              "\n",
              "    .dataframe thead th {\n",
              "        text-align: right;\n",
              "    }\n",
              "</style>\n",
              "<table border=\"1\" class=\"dataframe\">\n",
              "  <thead>\n",
              "    <tr style=\"text-align: right;\">\n",
              "      <th></th>\n",
              "      <th>reviewId</th>\n",
              "      <th>userName</th>\n",
              "      <th>userImage</th>\n",
              "      <th>content</th>\n",
              "      <th>score</th>\n",
              "      <th>thumbsUpCount</th>\n",
              "      <th>reviewCreatedVersion</th>\n",
              "      <th>at</th>\n",
              "      <th>replyContent</th>\n",
              "      <th>repliedAt</th>\n",
              "      <th>sortOrder</th>\n",
              "      <th>appId</th>\n",
              "    </tr>\n",
              "  </thead>\n",
              "  <tbody>\n",
              "    <tr>\n",
              "      <th>0</th>\n",
              "      <td>gp:AOqpTOFmkeI1XOO07WI0eRg_giDS45Jw9B4i75kpmUH...</td>\n",
              "      <td>lushitharan</td>\n",
              "      <td>https://play-lh.googleusercontent.com/a-/AOh14...</td>\n",
              "      <td>This app crashes itself and to say its slows d...</td>\n",
              "      <td>1</td>\n",
              "      <td>84</td>\n",
              "      <td>15.0.0</td>\n",
              "      <td>2022-03-28 13:30:20</td>\n",
              "      <td>Hi, Apologies for any inconvenience caused to ...</td>\n",
              "      <td>2022-03-28 13:35:41</td>\n",
              "      <td>most_relevant</td>\n",
              "      <td>net.omobio.dialogsc</td>\n",
              "    </tr>\n",
              "    <tr>\n",
              "      <th>1</th>\n",
              "      <td>gp:AOqpTOEclc0vKFgbr6svyQdhSlcrAkVEfnnpV2IDBXH...</td>\n",
              "      <td>Buddhima Zoysa</td>\n",
              "      <td>https://play-lh.googleusercontent.com/a/AATXAJ...</td>\n",
              "      <td>When I open the app I have to wait about from ...</td>\n",
              "      <td>1</td>\n",
              "      <td>518</td>\n",
              "      <td>14.3.0</td>\n",
              "      <td>2022-01-27 02:24:43</td>\n",
              "      <td>Hi, Thankyou for your feedback. Our team is cu...</td>\n",
              "      <td>2022-01-27 03:06:02</td>\n",
              "      <td>most_relevant</td>\n",
              "      <td>net.omobio.dialogsc</td>\n",
              "    </tr>\n",
              "    <tr>\n",
              "      <th>2</th>\n",
              "      <td>gp:AOqpTOHQKYC6pqA_ACyosBplqa0CjFkc_M5rdSfZ1Hm...</td>\n",
              "      <td>Shahinth Jeewaratnam</td>\n",
              "      <td>https://play-lh.googleusercontent.com/a/AATXAJ...</td>\n",
              "      <td>The App is extremely poor as always. The Previ...</td>\n",
              "      <td>1</td>\n",
              "      <td>1</td>\n",
              "      <td>None</td>\n",
              "      <td>2022-03-05 15:43:35</td>\n",
              "      <td>Hi Shahinth !\\n\\nPlease share more details of ...</td>\n",
              "      <td>2022-03-05 15:52:16</td>\n",
              "      <td>most_relevant</td>\n",
              "      <td>net.omobio.dialogsc</td>\n",
              "    </tr>\n",
              "    <tr>\n",
              "      <th>3</th>\n",
              "      <td>gp:AOqpTOGnCP1DH23IcAQWufUw99m7eZ7k0dsO9OrzVRZ...</td>\n",
              "      <td>Harshana Wijesinghe</td>\n",
              "      <td>https://play-lh.googleusercontent.com/a-/AOh14...</td>\n",
              "      <td>Please change the new UI to the older one or a...</td>\n",
              "      <td>1</td>\n",
              "      <td>335</td>\n",
              "      <td>14.0.1</td>\n",
              "      <td>2021-03-23 09:58:02</td>\n",
              "      <td>Hi Harshana,\\nAs mobile phone technology is co...</td>\n",
              "      <td>2021-03-23 10:19:00</td>\n",
              "      <td>most_relevant</td>\n",
              "      <td>net.omobio.dialogsc</td>\n",
              "    </tr>\n",
              "    <tr>\n",
              "      <th>4</th>\n",
              "      <td>gp:AOqpTOEMhrCIitAReGzQUig_z3He1Vvnm-wKmIGbE9o...</td>\n",
              "      <td>Areeba Haroon</td>\n",
              "      <td>https://play-lh.googleusercontent.com/a-/AOh14...</td>\n",
              "      <td>The app is extremely slow. Literally takes 5 m...</td>\n",
              "      <td>1</td>\n",
              "      <td>681</td>\n",
              "      <td>14.1.1</td>\n",
              "      <td>2021-07-15 18:58:54</td>\n",
              "      <td>Hi Areeba, We are extremely sorry about the un...</td>\n",
              "      <td>2021-07-15 19:34:15</td>\n",
              "      <td>most_relevant</td>\n",
              "      <td>net.omobio.dialogsc</td>\n",
              "    </tr>\n",
              "  </tbody>\n",
              "</table>\n",
              "</div>\n",
              "      <button class=\"colab-df-convert\" onclick=\"convertToInteractive('df-6c762ce0-88e4-4d9c-9f6a-2c581762fc3a')\"\n",
              "              title=\"Convert this dataframe to an interactive table.\"\n",
              "              style=\"display:none;\">\n",
              "        \n",
              "  <svg xmlns=\"http://www.w3.org/2000/svg\" height=\"24px\"viewBox=\"0 0 24 24\"\n",
              "       width=\"24px\">\n",
              "    <path d=\"M0 0h24v24H0V0z\" fill=\"none\"/>\n",
              "    <path d=\"M18.56 5.44l.94 2.06.94-2.06 2.06-.94-2.06-.94-.94-2.06-.94 2.06-2.06.94zm-11 1L8.5 8.5l.94-2.06 2.06-.94-2.06-.94L8.5 2.5l-.94 2.06-2.06.94zm10 10l.94 2.06.94-2.06 2.06-.94-2.06-.94-.94-2.06-.94 2.06-2.06.94z\"/><path d=\"M17.41 7.96l-1.37-1.37c-.4-.4-.92-.59-1.43-.59-.52 0-1.04.2-1.43.59L10.3 9.45l-7.72 7.72c-.78.78-.78 2.05 0 2.83L4 21.41c.39.39.9.59 1.41.59.51 0 1.02-.2 1.41-.59l7.78-7.78 2.81-2.81c.8-.78.8-2.07 0-2.86zM5.41 20L4 18.59l7.72-7.72 1.47 1.35L5.41 20z\"/>\n",
              "  </svg>\n",
              "      </button>\n",
              "      \n",
              "  <style>\n",
              "    .colab-df-container {\n",
              "      display:flex;\n",
              "      flex-wrap:wrap;\n",
              "      gap: 12px;\n",
              "    }\n",
              "\n",
              "    .colab-df-convert {\n",
              "      background-color: #E8F0FE;\n",
              "      border: none;\n",
              "      border-radius: 50%;\n",
              "      cursor: pointer;\n",
              "      display: none;\n",
              "      fill: #1967D2;\n",
              "      height: 32px;\n",
              "      padding: 0 0 0 0;\n",
              "      width: 32px;\n",
              "    }\n",
              "\n",
              "    .colab-df-convert:hover {\n",
              "      background-color: #E2EBFA;\n",
              "      box-shadow: 0px 1px 2px rgba(60, 64, 67, 0.3), 0px 1px 3px 1px rgba(60, 64, 67, 0.15);\n",
              "      fill: #174EA6;\n",
              "    }\n",
              "\n",
              "    [theme=dark] .colab-df-convert {\n",
              "      background-color: #3B4455;\n",
              "      fill: #D2E3FC;\n",
              "    }\n",
              "\n",
              "    [theme=dark] .colab-df-convert:hover {\n",
              "      background-color: #434B5C;\n",
              "      box-shadow: 0px 1px 3px 1px rgba(0, 0, 0, 0.15);\n",
              "      filter: drop-shadow(0px 1px 2px rgba(0, 0, 0, 0.3));\n",
              "      fill: #FFFFFF;\n",
              "    }\n",
              "  </style>\n",
              "\n",
              "      <script>\n",
              "        const buttonEl =\n",
              "          document.querySelector('#df-6c762ce0-88e4-4d9c-9f6a-2c581762fc3a button.colab-df-convert');\n",
              "        buttonEl.style.display =\n",
              "          google.colab.kernel.accessAllowed ? 'block' : 'none';\n",
              "\n",
              "        async function convertToInteractive(key) {\n",
              "          const element = document.querySelector('#df-6c762ce0-88e4-4d9c-9f6a-2c581762fc3a');\n",
              "          const dataTable =\n",
              "            await google.colab.kernel.invokeFunction('convertToInteractive',\n",
              "                                                     [key], {});\n",
              "          if (!dataTable) return;\n",
              "\n",
              "          const docLinkHtml = 'Like what you see? Visit the ' +\n",
              "            '<a target=\"_blank\" href=https://colab.research.google.com/notebooks/data_table.ipynb>data table notebook</a>'\n",
              "            + ' to learn more about interactive tables.';\n",
              "          element.innerHTML = '';\n",
              "          dataTable['output_type'] = 'display_data';\n",
              "          await google.colab.output.renderOutput(dataTable, element);\n",
              "          const docLink = document.createElement('div');\n",
              "          docLink.innerHTML = docLinkHtml;\n",
              "          element.appendChild(docLink);\n",
              "        }\n",
              "      </script>\n",
              "    </div>\n",
              "  </div>\n",
              "  "
            ]
          },
          "metadata": {},
          "execution_count": 32
        }
      ]
    },
    {
      "cell_type": "code",
      "source": [
        "app_reviews_df.shape"
      ],
      "metadata": {
        "colab": {
          "base_uri": "https://localhost:8080/"
        },
        "id": "_KJCrEnXWRvL",
        "outputId": "ac88b69e-f163-45ba-f122-57cec4cf4759"
      },
      "execution_count": 33,
      "outputs": [
        {
          "output_type": "execute_result",
          "data": {
            "text/plain": [
              "(2040, 12)"
            ]
          },
          "metadata": {},
          "execution_count": 33
        }
      ]
    },
    {
      "cell_type": "code",
      "source": [
        ""
      ],
      "metadata": {
        "id": "Es5FLy5H7vML"
      },
      "execution_count": null,
      "outputs": []
    }
  ]
}